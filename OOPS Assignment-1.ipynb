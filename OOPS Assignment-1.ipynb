{
 "cells": [
  {
   "cell_type": "markdown",
   "id": "790f3ed3-5231-41e1-8e24-c89cbb537634",
   "metadata": {},
   "source": [
    "# Q1. Explain Class and Object with respect to Object-Oriented Programming. Give a suitable example."
   ]
  },
  {
   "cell_type": "markdown",
   "id": "133594a8-1521-4da5-9f55-2e99d4f247b9",
   "metadata": {},
   "source": [
    "# Ans: 1\n",
    "\n",
    "In Object-Oriented Programming (OOP), a class is a blueprint or template for creating objects that share similar characteristics and behavior. It defines the attributes (data) and methods (functions) that an object can have. Objects, on the other hand, are instances of a class. They represent specific, concrete things that have their own unique values for the attributes defined in the class."
   ]
  },
  {
   "cell_type": "code",
   "execution_count": 1,
   "id": "cc2a6b2c-e265-4fdd-aca1-b49ffd49cec9",
   "metadata": {},
   "outputs": [
    {
     "name": "stdout",
     "output_type": "stream",
     "text": [
      "Krishna\n",
      "21\n",
      "Namaste, my name is Krishna\n",
      "Varshais eating Golgappa\n",
      "Krishnais sleeping\n"
     ]
    }
   ],
   "source": [
    "#Here is an example\n",
    "#defining a person class:\n",
    "class person:\n",
    "    def __init__(self, name , age , gender):\n",
    "        self.name = name \n",
    "        self.age = age \n",
    "        self.gender = gender\n",
    "        \n",
    "    def speak(self):\n",
    "        print(\"Namaste, my name is \" + self.name)\n",
    "        \n",
    "    def eat(self):\n",
    "        print(self.name + 'is eating ' + 'Golgappa')\n",
    "        \n",
    "        \n",
    "    def sleep(self):\n",
    "        print(self.name + 'is sleeping')\n",
    "        \n",
    "        \n",
    "\n",
    "#creating two person objects\n",
    "krishna = person('Krishna' , 22, 'Male')\n",
    "varsha = person('Varsha' , 21, 'Female')\n",
    "\n",
    "#accessing object attributes:\n",
    "print(krishna.name)\n",
    "print(varsha.age)\n",
    "\n",
    "\n",
    "#calling object methods:\n",
    "krishna.speak()\n",
    "varsha.eat()\n",
    "krishna.sleep()"
   ]
  },
  {
   "cell_type": "code",
   "execution_count": null,
   "id": "86ec11e6-da34-403b-ab87-c0908141d096",
   "metadata": {},
   "outputs": [],
   "source": []
  },
  {
   "cell_type": "markdown",
   "id": "a9fda59c-6915-4f34-abb6-cfd6f972e9a7",
   "metadata": {},
   "source": [
    "# Q2. Name the four pillars of OOPs."
   ]
  },
  {
   "cell_type": "markdown",
   "id": "2098d909-c9ad-4169-80c8-48b98eb52a2d",
   "metadata": {},
   "source": [
    "# Ans: 2\n",
    "\n",
    "**These are the four fillars of OOps:**\n",
    "\n",
    "- **Encapsulation:**\n",
    "It is the practice of hiding the internal details of an object and providing a public interface for interacting with the object. Encapsulation allows for better data security and more flexible software design by decoupling the implementation details from the rest of the program.\n",
    "\n",
    "- **Inheritance:** \n",
    "It is the mechanism by which one class acquires the properties and methods of another class. Inheritance allows for code reuse and promotes the creation of more maintainable, extensible code.\n",
    "\n",
    "- **Polymorphism:** \n",
    "It is the ability of an object to take on multiple forms. Polymorphism allows for the creation of more flexible and adaptable software by allowing objects of different classes to be used interchangeably.\n",
    "\n",
    "- **Abstraction:**\n",
    "It is the process of identifying essential features of an object and ignoring the non-essential details. Abstraction allows for the creation of simpler, more generalized models of complex systems, which can be easier to understand, modify, and maintain."
   ]
  },
  {
   "cell_type": "code",
   "execution_count": null,
   "id": "b6cf72ff-7b40-4687-bc65-cb36f1fd7444",
   "metadata": {},
   "outputs": [],
   "source": []
  },
  {
   "cell_type": "markdown",
   "id": "81b437f0-e9f8-44ea-b4e4-e6ae8c45cab2",
   "metadata": {},
   "source": [
    "# Q3. Explain why the init() function is used. Give a suitable example."
   ]
  },
  {
   "cell_type": "markdown",
   "id": "1efc11fa-1e39-4a77-948a-a24ef78f8a76",
   "metadata": {},
   "source": [
    "# Ans : 3\n",
    "the init() function is a special method in python that is automatically called when an object is created from a class. It is used to initialize the object's attributes with default or provided values.\n",
    "\n",
    "The init() method is called a constructor because it constructs the object and initializes its attributes. It is a commonly used method in Object-Oriented Programming (OOP) as it allows for the creation of objects with specific initial values.\n",
    "\n",
    "init() method simplifies the object creation process and ensures that all necessary attributes are properly initialized."
   ]
  },
  {
   "cell_type": "code",
   "execution_count": 4,
   "id": "9fec0b02-bc7c-4bd2-bf8f-0f0c9e82a3de",
   "metadata": {},
   "outputs": [
    {
     "name": "stdout",
     "output_type": "stream",
     "text": [
      "Namaste, my name is krishna kumar. I'm 22 years old and by Gender Male.\n"
     ]
    }
   ],
   "source": [
    "#Here is an example:\n",
    "class Person:\n",
    "    def __init__(self, name, age, gender):\n",
    "        self.name = name\n",
    "        self.age = age\n",
    "        self.gender = gender\n",
    "    \n",
    "    def introduce(self):\n",
    "        print(\"Namaste, my name is krishna kumar\" + \". I'm \" + str(self.age) + \" years old and by Gender \" + self.gender + \".\")\n",
    "\n",
    "# Create a Person object\n",
    "person1 = Person(\"krishna\", 22, \"Male\")\n",
    "\n",
    "# Call the introduce method to print the object's attributes\n",
    "person1.introduce()"
   ]
  },
  {
   "cell_type": "code",
   "execution_count": null,
   "id": "14008c1e-c4ad-4e18-b66a-cb20702f64bb",
   "metadata": {},
   "outputs": [],
   "source": []
  },
  {
   "cell_type": "markdown",
   "id": "610768fd-565d-484b-a6f8-a24907bb851c",
   "metadata": {},
   "source": [
    "# Q4. Why self is used in OOPs?"
   ]
  },
  {
   "cell_type": "markdown",
   "id": "3fa7a1dc-f390-40a9-843b-8f0e69c829c9",
   "metadata": {},
   "source": [
    "# Ans: 4\n",
    "\n",
    "In Object-Oriented Programming (OOP), 'self' is a reference variable that refers to the current object instance. It is used to access the object's attributes and methods within the class definition.\n",
    "\n",
    "When a method is called on an object, the object itself is passed as the first argument to the method. This argument is typically named self, although it can technically be named anything. By convention, self is used to make the code more readable and understandable.\n",
    "\n"
   ]
  },
  {
   "cell_type": "code",
   "execution_count": 7,
   "id": "f382840b-7a38-4895-9380-59f2a841f7f5",
   "metadata": {},
   "outputs": [
    {
     "name": "stdout",
     "output_type": "stream",
     "text": [
      "I am reading 'Thr Great Gatspy' by F. Scott Fitzgerald\n",
      "Krish thinks that 'Thr Great Gatspy' is a great book with a rating of 4.5\n"
     ]
    }
   ],
   "source": [
    "#here is an example of a man who is reading an oscar wining book:\n",
    "class book :\n",
    "    def __init__(self, tittle , author, year_published):\n",
    "        self.tittle = tittle\n",
    "        self.author = author\n",
    "        self.year_published = year_published\n",
    "        \n",
    "    def read_book(self):\n",
    "        print(f\"I am reading '{self.tittle}' by {self.author}\" )\n",
    "        \n",
    "        \n",
    "    def get_rating(self):\n",
    "        pass\n",
    "    \n",
    "gatsby = book('Thr Great Gatspy' , \"F. Scott Fitzgerald\", 1925)\n",
    "\n",
    "Krish = 'Krish'\n",
    "gatsby.read_book()\n",
    "rating = gatsby.get_rating()\n",
    "\n",
    "print(f\"{Krish} thinks that '{gatsby.tittle}' is a great book with a rating of {4.5}\")"
   ]
  },
  {
   "cell_type": "code",
   "execution_count": null,
   "id": "bdfc76d2-e7c1-4f0c-9ade-27d8853ba850",
   "metadata": {},
   "outputs": [],
   "source": []
  },
  {
   "cell_type": "markdown",
   "id": "b32ad17f-a1b1-40ee-bda9-35e0819c7110",
   "metadata": {},
   "source": [
    "# Q5. What is inheritance? Give an example for each type of inheritance."
   ]
  },
  {
   "cell_type": "markdown",
   "id": "2604ee1b-f8b4-46f6-97ce-67b53cd4c223",
   "metadata": {},
   "source": [
    "# Ans: 5\n",
    "\n",
    "Inheritance is a fundamental concept in object-oriented programming (OOP) that allows a new class to be based on an existing class. Inheritance enables code reuse and makes it easier to create and maintain complex systems. Inheritance allows a child class to inherit the attributes and methods of a parent class, and to add or modify them as needed.\n",
    "\n",
    "There are four types of inheritance in Python:\n",
    "\n",
    "- **Single inheritance:**\n",
    "A child class inherits from a single parent class. This is the most common type of inheritance."
   ]
  },
  {
   "cell_type": "code",
   "execution_count": 8,
   "id": "724148f7-56d0-4fa4-bbe8-0fe8bf7b9c05",
   "metadata": {},
   "outputs": [],
   "source": [
    "#Single inherisinstance:\n",
    "class Animal:\n",
    "    def make_sound(self):\n",
    "        pass\n",
    "\n",
    "class Dog(Animal):\n",
    "    def make_sound(self):\n",
    "        print(\"Woof!\")"
   ]
  },
  {
   "cell_type": "markdown",
   "id": "1fab6565-5664-4209-b3e6-56037dfa3708",
   "metadata": {},
   "source": [
    "- **Multiple inheritance:**\n",
    "A child class inherits from multiple parent classes."
   ]
  },
  {
   "cell_type": "code",
   "execution_count": 10,
   "id": "ff3adc52-4537-4d2c-9f15-cbb7e28a71f2",
   "metadata": {},
   "outputs": [],
   "source": [
    "#here is Multiple inheritance method example:\n",
    "class Shape:\n",
    "    def draw(self):\n",
    "        pass\n",
    "\n",
    "class Color:\n",
    "    def set_color(self):\n",
    "        pass\n",
    "\n",
    "class ColoredShape(Shape, Color):\n",
    "    def draw(self):\n",
    "        self.set_color()\n",
    "        super().draw()"
   ]
  },
  {
   "cell_type": "markdown",
   "id": "2638422b-f2bf-4b6c-8c8d-91d45935cb6f",
   "metadata": {},
   "source": [
    "- **Multi-level inheritance:**\n",
    "A child class inherits from a parent class, which in turn inherits from another parent class."
   ]
  },
  {
   "cell_type": "code",
   "execution_count": 11,
   "id": "de107e45-7063-4dc7-ae19-172a8378415b",
   "metadata": {},
   "outputs": [],
   "source": [
    "#here is Multi-level inheritance method example:\n",
    "class Animal:\n",
    "    def eat(self):\n",
    "        print(\"I am eating.\")\n",
    "\n",
    "class Dog(Animal):\n",
    "    def bark(self):\n",
    "        print(\"Woof!\")\n",
    "\n",
    "class Bulldog(Dog):\n",
    "    def bark(self):\n",
    "        print(\"Grrr!\")"
   ]
  },
  {
   "cell_type": "markdown",
   "id": "b1bf4f19-2b6b-4847-abc5-f4e1fe55ae1e",
   "metadata": {},
   "source": [
    "- **Hierarchical inheritance:** \n",
    "Multiple child classes inherit from a single parent class."
   ]
  },
  {
   "cell_type": "code",
   "execution_count": 16,
   "id": "ac13d40a-85f2-49f2-a815-f0a280597ba4",
   "metadata": {},
   "outputs": [
    {
     "name": "stdout",
     "output_type": "stream",
     "text": [
      "Max is eating.\n",
      "Max is sleeping.\n",
      "Max is barking.\n",
      "Whiskers is eating.\n",
      "Whiskers is sleeping.\n",
      "Whiskers is purring.\n"
     ]
    }
   ],
   "source": [
    "class Animal:\n",
    "    def __init__(self, name):\n",
    "        self.name = name\n",
    "\n",
    "    def eat(self):\n",
    "        print(f\"{self.name} is eating.\")\n",
    "\n",
    "\n",
    "class Mammal(Animal):\n",
    "    def sleep(self):\n",
    "        print(f\"{self.name} is sleeping.\")\n",
    "\n",
    "\n",
    "class Dog(Mammal):\n",
    "    def bark(self):\n",
    "        print(f\"{self.name} is barking.\")\n",
    "\n",
    "\n",
    "class Cat(Mammal):\n",
    "    def purr(self):\n",
    "        print(f\"{self.name} is purring.\")\n",
    "\n",
    "\n",
    "# Creating instances of the classes\n",
    "dog = Dog(\"Max\")\n",
    "dog.eat()\n",
    "dog.sleep()\n",
    "dog.bark()\n",
    "\n",
    "cat = Cat(\"Whiskers\")\n",
    "cat.eat()\n",
    "cat.sleep()\n",
    "cat.purr()\n"
   ]
  },
  {
   "cell_type": "code",
   "execution_count": null,
   "id": "5f40a1ba-803e-415b-900d-9c54fa0989bf",
   "metadata": {},
   "outputs": [],
   "source": []
  }
 ],
 "metadata": {
  "kernelspec": {
   "display_name": "Python 3 (ipykernel)",
   "language": "python",
   "name": "python3"
  },
  "language_info": {
   "codemirror_mode": {
    "name": "ipython",
    "version": 3
   },
   "file_extension": ".py",
   "mimetype": "text/x-python",
   "name": "python",
   "nbconvert_exporter": "python",
   "pygments_lexer": "ipython3",
   "version": "3.10.8"
  }
 },
 "nbformat": 4,
 "nbformat_minor": 5
}
